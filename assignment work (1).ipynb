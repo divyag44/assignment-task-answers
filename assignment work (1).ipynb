{
 "cells": [
  {
   "cell_type": "markdown",
   "id": "01f8bb80-3547-4f1d-8fa5-d90fc2bf4e7b",
   "metadata": {},
   "source": [
    "## 1. A developer is assigned a task to scrape 1 lakh website pages from a directory site, while scrapping he is facing such hcaptcha, which are placed to stop people from scrapping. As a project coordinator suggest ways to solve tis problem."
   ]
  },
  {
   "cell_type": "markdown",
   "id": "b7f04224-df0b-430d-b73a-be8f2f61e6eb",
   "metadata": {},
   "source": [
    "## answer. \n",
    "## (a)we can Consider using legitimate CAPTCHA solving services, which often involve human-solving of CAPTCHAs.\n",
    "## (b)we can also use captcha resolvers. CAPTCHA resolvers are the services that can automatically solve CAPTCHAs on our behalf. There are many different CAPTCHA resolvers available, both free and paid\n",
    "### CAPTCHA resolvers work by using a variety of techniques to solve CAPTCHAs, such as.\n",
    "Machine learning algorithms: CAPTCHA resolvers can use machine learning algorithms to identify patterns in CAPTCHA images and text. This allows them to solve CAPTCHAs with a high degree of accuracy.\n",
    "Human workers: Some CAPTCHA resolvers use human workers to solve CAPTCHAs. This is a more time-consuming and expensive method, but it can be more accurate than using machine learning algorithms.\n",
    "To use a CAPTCHA resolver, you will need to create an account with the service and purchase credits. Once you have credits, you can submit CAPTCHAs to the service and they will be solved for you."
   ]
  },
  {
   "cell_type": "markdown",
   "id": "4597fc7b-1f35-4d5b-8337-9772219c4f25",
   "metadata": {},
   "source": [
    "## 2. Our client has around 10k linkedIn people profile, he wants to know estimated income of these profiles. Suggest ways on how to do this."
   ]
  },
  {
   "cell_type": "markdown",
   "id": "234d4a9a-2d0b-4bb6-b14b-b59fd51b3233",
   "metadata": {},
   "source": [
    "## answer. \n",
    "## (a)Based on the time spending profile(they can generate revenue), based on post, then how much active they are online. \n",
    "## (b)We can also see what all practices they are doing in there profile. Like one on one sessions on linkedin which involves revenue which they decide to recieve from the website. \n",
    "## (c)We can also estimate there income by looking at the comments and interactions of people with there profile."
   ]
  },
  {
   "cell_type": "markdown",
   "id": "e564abc1-7be1-4723-a29a-1952e7b15ddc",
   "metadata": {},
   "source": [
    "## 3. We have a list of 1 lakh company names, need to find linkedin company links of these profiles. suggest ways to  do this."
   ]
  },
  {
   "cell_type": "markdown",
   "id": "a644842d-a5f2-4731-a589-2985b1f2f5f6",
   "metadata": {},
   "source": [
    "## answer.\n",
    "## (a)We can search company name and we can just use the company URL links from above. eg-https://www.linkedin.com/company/any-company-name/\n",
    "## (b) We can also use web scrapping method but it is a very lengthy procedure."
   ]
  },
  {
   "cell_type": "code",
   "execution_count": 4,
   "id": "2e1a415e-93da-4a76-ba75-a5ca965daff0",
   "metadata": {},
   "outputs": [
    {
     "data": {
      "text/html": [
       "<div>\n",
       "<style scoped>\n",
       "    .dataframe tbody tr th:only-of-type {\n",
       "        vertical-align: middle;\n",
       "    }\n",
       "\n",
       "    .dataframe tbody tr th {\n",
       "        vertical-align: top;\n",
       "    }\n",
       "\n",
       "    .dataframe thead th {\n",
       "        text-align: right;\n",
       "    }\n",
       "</style>\n",
       "<table border=\"1\" class=\"dataframe\">\n",
       "  <thead>\n",
       "    <tr style=\"text-align: right;\">\n",
       "      <th></th>\n",
       "      <th>COMPANY</th>\n",
       "      <th>LINKS</th>\n",
       "    </tr>\n",
       "  </thead>\n",
       "  <tbody>\n",
       "    <tr>\n",
       "      <th>0</th>\n",
       "      <td>Google</td>\n",
       "      <td>https://www.linkedin.com/company/meta/</td>\n",
       "    </tr>\n",
       "    <tr>\n",
       "      <th>1</th>\n",
       "      <td>TCS</td>\n",
       "      <td>https://www.linkedin.com/company/tata-consulta...</td>\n",
       "    </tr>\n",
       "    <tr>\n",
       "      <th>2</th>\n",
       "      <td>IBM</td>\n",
       "      <td>https://www.linkedin.com/company/ibm/</td>\n",
       "    </tr>\n",
       "    <tr>\n",
       "      <th>3</th>\n",
       "      <td>Fcaebook</td>\n",
       "      <td>https://www.linkedin.com/products/facebook/</td>\n",
       "    </tr>\n",
       "  </tbody>\n",
       "</table>\n",
       "</div>"
      ],
      "text/plain": [
       "    COMPANY                                              LINKS\n",
       "0    Google             https://www.linkedin.com/company/meta/\n",
       "1       TCS  https://www.linkedin.com/company/tata-consulta...\n",
       "2       IBM              https://www.linkedin.com/company/ibm/\n",
       "3  Fcaebook        https://www.linkedin.com/products/facebook/"
      ]
     },
     "execution_count": 4,
     "metadata": {},
     "output_type": "execute_result"
    }
   ],
   "source": [
    "## code and example for the same\n",
    "import pandas as pd\n",
    "df = pd.read_csv('Book1.csv.xlsx.csv')\n",
    "df.head()"
   ]
  },
  {
   "cell_type": "markdown",
   "id": "dae34038-1e5b-4fe7-9d5f-d5f1e052fcc5",
   "metadata": {},
   "source": [
    "## 4 . How to indentify list of company whose tech stack is built on python. Give name of 5 compaanies if possible suggested by your approach."
   ]
  },
  {
   "cell_type": "markdown",
   "id": "28554881-9996-4fbb-9ad3-38beba82f95a",
   "metadata": {},
   "source": [
    "## answer. As far as I can think of all the things as per how we can identify whether or not they are using python as there tech stack is by looking at the compaies open source code maybe on github, here we can see what the companies are actually using as there teach stack and we can also find it by news that the companies releases. \n",
    "## Other ways with the help of which we can find whether they use teach stack as python or not is by Blogs, linkedin, company websites etc.\n",
    "Companies whose teach stack is in pyhton are Google, Spotify, Instagram, dropbox, facebook"
   ]
  },
  {
   "cell_type": "markdown",
   "id": "cad38c32-d940-4bba-bf7f-b6c2cdde0c54",
   "metadata": {},
   "source": [
    "## 5. Need to find an API through which we can send linkedin messages to another linked in users."
   ]
  },
  {
   "cell_type": "markdown",
   "id": "e8f42ae7-ecde-42b5-a839-9d49ea27a848",
   "metadata": {},
   "source": [
    "## answer. \n",
    "## API is Application Programming Interface, it is a set of rules and protocols that allows different software applications to communicate with each other. It refers to a way application can request and exchange information. \n",
    "## But LinkeIn has strict policies, LinkedIn does not provide a public API for sending direct messages to other LinkedIn users programmatically. We have to do it in the app or website itself by going to the chat section and sending the messages manually. "
   ]
  },
  {
   "cell_type": "code",
   "execution_count": null,
   "id": "fc4b1474-8c1e-4154-855f-bb321200fc95",
   "metadata": {},
   "outputs": [],
   "source": []
  }
 ],
 "metadata": {
  "kernelspec": {
   "display_name": "Python 3 (ipykernel)",
   "language": "python",
   "name": "python3"
  },
  "language_info": {
   "codemirror_mode": {
    "name": "ipython",
    "version": 3
   },
   "file_extension": ".py",
   "mimetype": "text/x-python",
   "name": "python",
   "nbconvert_exporter": "python",
   "pygments_lexer": "ipython3",
   "version": "3.10.8"
  }
 },
 "nbformat": 4,
 "nbformat_minor": 5
}
